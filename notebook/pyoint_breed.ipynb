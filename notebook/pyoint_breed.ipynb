{
 "cells": [
  {
   "cell_type": "code",
   "execution_count": 40,
   "metadata": {
    "collapsed": false
   },
   "outputs": [],
   "source": [
    "import os\n",
    "import sys\n",
    "import random\n",
    "from copy import deepcopy\n",
    "import jsonpickle\n",
    "import multiprocessing\n",
    "\n",
    "import numpy\n",
    "import Image, ImageDraw\n",
    "\n",
    "#-------------------------------------------------------------------------------------------------\n",
    "#Knobs and Dials\n",
    "#-------------------------------------------------------------------------------------------------\n",
    "POP_PER_GENERATION = 50\n",
    "MUTATION_CHANCE = 0.01\n",
    "ADD_GENE_CHANCE = 0.3\n",
    "REM_GENE_CHANCE = 0.2\n",
    "INITIAL_GENES = 50\n",
    "\n",
    "#How often to output images and save files\n",
    "GENERATIONS_PER_IMAGE = 100\n",
    "GENERATIONS_PER_SAVE = 100\n",
    "\n",
    "try:\n",
    "    globalTarget = Image.open(\"reference.png\")\n",
    "except IOError:\n",
    "    print \"File reference.png must be located in the same directory as poly_artist.py.\"\n",
    "    exit()\n",
    "\n",
    "#-------------------------------------------------------------------------------------------------\n",
    "#Helper Classes\n",
    "#-------------------------------------------------------------------------------------------------\n",
    "class Point:\n",
    "    \"\"\"\n",
    "    A 2D point. You can add them together if you want.\n",
    "    \"\"\"\n",
    "    def __init__(self,x,y):\n",
    "        self.x = x\n",
    "        self.y = y\n",
    "\n",
    "    def __add__(self,o):\n",
    "        return Point(self.x+o.x,self.y+o.y)\n",
    "\n",
    "class Color:\n",
    "    \"\"\"\n",
    "    A color. You can shift it by a given value.\n",
    "    \"\"\"\n",
    "    def __init__(self,r,g,b):\n",
    "        self.r = r\n",
    "        self.g = g\n",
    "        self.b = b\n",
    "\n",
    "    def shift(self,r,g,b):\n",
    "        self.r = max(0,min(255,self.r+r))\n",
    "        self.g = max(0,min(255,self.g+g))\n",
    "        self.b = max(0,min(255,self.b+b))\n",
    "\n",
    "    def __str__(self):\n",
    "        return \"({},{},{})\".format(self.r,self.g,self.b)\n",
    "\n",
    "#-------------------------------------------------------------------------------------------------\n",
    "#Genetic Classes\n",
    "#-------------------------------------------------------------------------------------------------\n",
    "class Gene:\n",
    "    \"\"\"\n",
    "    A gene is the object that can be mutated. Genetic algorithms work by randomly mutating genes\n",
    "    and then using some function to determine how \"ideal\" the resulting organism is.\n",
    "\n",
    "    This one is basically a circle, with a size, color, and position on the canvas.\n",
    "    \"\"\"\n",
    "    def __init__(self,size):\n",
    "        self.size = size #The canvas size so we know the maximum position value\n",
    "\n",
    "        self.diameter = random.randint(5,15)\n",
    "        self.pos = Point(random.randint(0,size[0]),random.randint(0,size[1]))\n",
    "        self.color = Color(random.randint(0,255),random.randint(0,255),random.randint(0,255))\n",
    "        self.params = [\"diameter\",\"pos\",\"color\"]\n",
    "\n",
    "    def mutate(self):\n",
    "        #Decide how big the mutation will be\n",
    "        mutation_size = max(1,int(round(random.gauss(15,4))))/100\n",
    "\n",
    "        #Decide what will be mutated\n",
    "        mutation_type = random.choice(self.params)\n",
    "\n",
    "        #Mutate the thing\n",
    "        if mutation_type == \"diameter\":\n",
    "            self.diameter = max(1,random.randint(int(self.diameter*(1-mutation_size)),int(self.diameter*(1+mutation_size))))\n",
    "\n",
    "        elif mutation_type == \"pos\":\n",
    "            x = max(0,random.randint(int(self.pos.x*(1-mutation_size)),int(self.pos.x*(1+mutation_size))))\n",
    "            y = max(0,random.randint(int(self.pos.y*(1-mutation_size)),int(self.pos.y*(1+mutation_size))))\n",
    "            self.pos = Point(min(x,self.size[0]),min(y,self.size[1]))\n",
    "\n",
    "        elif mutation_type == \"color\":\n",
    "            r = min(max(0,random.randint(int(self.color.r*(1-mutation_size)),int(self.color.r*(1+mutation_size)))),255)\n",
    "            g = min(max(0,random.randint(int(self.color.g*(1-mutation_size)),int(self.color.g*(1+mutation_size)))),255)\n",
    "            b = min(max(0,random.randint(int(self.color.b*(1-mutation_size)),int(self.color.b*(1+mutation_size)))),255)\n",
    "            self.color = Color(r,g,b)\n",
    "\n",
    "    def copy(self,anotherGene):\n",
    "        self.size = anotherGene.size\n",
    "        self.diameter = anotherGene.diameter\n",
    "        self.pos = Point(anotherGene.pos.x,anotherGene.pos.y)\n",
    "        self.color = Color(anotherGene.color.r,anotherGene.color.g,anotherGene.color.b)\n",
    "        \n",
    "        \n",
    "    def getSave(self):\n",
    "        \"\"\"\n",
    "        Allows us to save an individual gene in case the program is stopped.\n",
    "        \"\"\"\n",
    "        so = {}\n",
    "        so[\"size\"] = self.size\n",
    "        so[\"diameter\"] = self.diameter\n",
    "        so[\"pos\"] = (self.pos.x,self.pos.y)\n",
    "        so[\"color\"] = (self.color.r,self.color.g,self.color.b)\n",
    "        return so\n",
    "\n",
    "    def loadSave(self,so):\n",
    "        \"\"\"\n",
    "        Allows us to load an individual gene in case the program is stopped.\n",
    "        \"\"\"\n",
    "        self.size = so[\"size\"]\n",
    "        self.diameter = so[\"diameter\"]\n",
    "        self.pos = Point(so[\"pos\"][0],so[\"pos\"][1])\n",
    "        self.color = Color(so[\"color\"][0],so[\"color\"][1],so[\"color\"][2])\n",
    "\n",
    "class Organism:\n",
    "    \"\"\"\n",
    "    The organism consists of a variety of genes that work together for some sort of effect. The main\n",
    "    effect of the genetic algorithm takes place here, as each step involves mutating some of the\n",
    "    organisms genes to produce offspring, and the best performing of those offspring carries on.\n",
    "\n",
    "    This organism contains a bunch of genes that draw circles, working together to draw a picture.\n",
    "    \"\"\"\n",
    "    def __init__(self,size,num):\n",
    "        \n",
    "        self.size = size\n",
    "\n",
    "        #Create random genes up to the number given\n",
    "        self.genes = [Gene(size) for _ in xrange (num)]        \n",
    "\n",
    "\n",
    "    def mutate(self):\n",
    "        #For small numbers of genes, each one has a random chance of mutating\n",
    "        if len(self.genes) < 200:\n",
    "            for g in self.genes:\n",
    "                if MUTATION_CHANCE < random.random():\n",
    "                    g.mutate()\n",
    "\n",
    "        #For large numbers of genes, pick a random sample, this is statistically equivalent and faster\n",
    "        else:\n",
    "            for g in random.sample(self.genes,int(len(self.genes)*MUTATION_CHANCE)):\n",
    "                g.mutate()\n",
    "\n",
    "        #We also have a chance to add or remove a gene\n",
    "        if ADD_GENE_CHANCE < random.random():\n",
    "            self.genes.append(Gene(self.size))\n",
    "        if len(self.genes) > 0 and REM_GENE_CHANCE < random.random():\n",
    "            self.genes.remove(random.choice(self.genes))\n",
    "\n",
    "    def drawImage(self):\n",
    "        \"\"\"\n",
    "        Using the Image module, use the genes to draw the image.\n",
    "        \"\"\"\n",
    "        image = Image.new(\"RGB\",self.size,(255,255,255))\n",
    "        canvas = ImageDraw.Draw(image)\n",
    "\n",
    "        for g in self.genes:\n",
    "            color = (g.color.r,g.color.g,g.color.b)\n",
    "            canvas.ellipse([g.pos.x-g.diameter,g.pos.y-g.diameter,g.pos.x+g.diameter,g.pos.y+g.diameter],outline=color,fill=color)\n",
    "\n",
    "        return image\n",
    "\n",
    "    def getSave(self,generation):\n",
    "        \"\"\"\n",
    "        Allows us to save an individual organism in case the program is stopped.\n",
    "        \"\"\"\n",
    "        so = [generation]\n",
    "        return so + [g.getSave() for g in self.genes]\n",
    "\n",
    "    def loadSave(self,so):\n",
    "        \"\"\"\n",
    "        Allows us to load an individual organism in case the program is stopped.\n",
    "        \"\"\"\n",
    "        self.genes = []\n",
    "        gen = so[0]\n",
    "        so = so[1:]\n",
    "        for g in so:\n",
    "            newGene = Gene(self.size)\n",
    "            newGene.loadSave(g)\n",
    "            self.genes.append(newGene)\n",
    "        return gen\n",
    "\n",
    "def fitness(im1,im2):\n",
    "    \"\"\"\n",
    "    The fitness function is used by the genetic algorithm to determine how successful a given organism\n",
    "    is. Usually a genetic algorithm is trying to either minimize or maximize this function.\n",
    "\n",
    "    This one uses numpy to quickly compute the sum of the differences between the pixels.\n",
    "    \"\"\"\n",
    "    #Convert Image types to numpy arrays\n",
    "    i1 = numpy.array(im1,numpy.int16)\n",
    "    i2 = numpy.array(im2,numpy.int16)\n",
    "    dif = numpy.sum(numpy.abs(i1-i2))\n",
    "    return (dif / 255.0 * 100) / i1.size"
   ]
  },
  {
   "cell_type": "code",
   "execution_count": 41,
   "metadata": {
    "collapsed": true
   },
   "outputs": [],
   "source": [
    "def mutateAndTest(o):\n",
    "    \"\"\"\n",
    "    Given an organism, perform a random mutation on it, and then use the fitness function to\n",
    "    determine how accurate of a result the mutated offspring draws.\n",
    "    \"\"\"\n",
    "    c = deepcopy(o)\n",
    "    c.mutate()\n",
    "    i1 = c.drawImage()\n",
    "    i2 = globalTarget\n",
    "    return (fitness(i1,i2),c)\n",
    "\n",
    "def groupMutate(o,number,p):\n",
    "    \"\"\"\n",
    "    Mutates and tests a number of organisms using the multiprocessing module.\n",
    "    \"\"\"\n",
    "    results = p.map(mutateAndTest,[o]*int(number))\n",
    "#    results = [mutateAndTest(i) for i in [o]*int(number)]\n",
    "    return results"
   ]
  },
  {
   "cell_type": "code",
   "execution_count": 47,
   "metadata": {
    "collapsed": false
   },
   "outputs": [],
   "source": [
    "cores = max(1,multiprocessing.cpu_count()-1)\n",
    "target = globalTarget\n",
    "p = multiprocessing.Pool(cores)\n",
    "\n",
    "\n",
    "    #Create the parent organism (with random genes)\n",
    "generation = 1\n",
    "parent = Organism(target.size,INITIAL_GENES)\n",
    "\n",
    "    #Load the save if one is given\n",
    "    \n",
    "prevScore = 101\n",
    "score = fitness(parent.drawImage(),target)\n"
   ]
  },
  {
   "cell_type": "code",
   "execution_count": null,
   "metadata": {
    "collapsed": false
   },
   "outputs": [],
   "source": []
  },
  {
   "cell_type": "code",
   "execution_count": 48,
   "metadata": {
    "collapsed": false
   },
   "outputs": [],
   "source": [
    "children = []\n",
    "scores = []\n",
    "\n",
    "#Keep the best from before in case all mutations are bad\n",
    "children.append(parent)\n",
    "scores.append(score)\n",
    "\n",
    "#Perform the mutations and add to the parent\n",
    "results = groupMutate(parent,POP_PER_GENERATION-1,p)\n",
    "newScores,newChildren = zip(*results)\n",
    "\n",
    "children.extend(newChildren)\n",
    "scores.extend(newScores)\n",
    "\n",
    "#Find the winners\n",
    "winners = sorted(children,key=lambda x: scores[children.index(x)])[:2]\n",
    "p.close()"
   ]
  },
  {
   "cell_type": "code",
   "execution_count": 33,
   "metadata": {
    "collapsed": false
   },
   "outputs": [
    {
     "data": {
      "text/plain": [
       "[<__main__.Organism instance at 0x107a0efc8>,\n",
       " <__main__.Organism instance at 0x107a8e368>]"
      ]
     },
     "execution_count": 33,
     "metadata": {},
     "output_type": "execute_result"
    }
   ],
   "source": [
    "winners"
   ]
  },
  {
   "cell_type": "code",
   "execution_count": 53,
   "metadata": {
    "collapsed": false
   },
   "outputs": [],
   "source": [
    "def crossover(g1,g2,mask):\n",
    "    res = Gene(target.size)\n",
    "    res.pos.x = mask[0]*g1.pos.x + int(not mask[0])*g2.pos.x\n",
    "    res.pos.y = mask[0]*g1.pos.y + int(not mask[0])*g2.pos.y\n",
    "    res.diameter = mask[1]*g1.diameter + int(not mask[1])*g2.diameter\n",
    "    res.color = Color(mask[2]*g1.color.r + int(not mask[2])*g2.color.r,\n",
    "                      mask[3]*g1.color.g + int(not mask[3])*g2.color.g,\n",
    "                      mask[3]*g1.color.b + int(not mask[3])*g2.color.b)\n",
    "    return res\n",
    "\n",
    "def getChild(o1,o2):\n",
    "    mask = [random.randint(0,1) for i in range(5)]\n",
    "    genes_num = min(len(o1.genes),len(o2.genes))\n",
    "    child = Organism(target.size,genes_num)\n",
    "    for c_g,o1_g,o2_g in zip(child.genes,o1.genes,o2.genes):\n",
    "        res= crossover(o1_g,o2_g,mask)\n",
    "        c_g.copy(res)\n",
    "    return child\n",
    "        "
   ]
  },
  {
   "cell_type": "code",
   "execution_count": 54,
   "metadata": {
    "collapsed": false
   },
   "outputs": [],
   "source": [
    "parent = getChild(*winners)"
   ]
  },
  {
   "cell_type": "code",
   "execution_count": 55,
   "metadata": {
    "collapsed": false
   },
   "outputs": [],
   "source": [
    "parent.drawImage().save('qqq.png')"
   ]
  },
  {
   "cell_type": "code",
   "execution_count": 39,
   "metadata": {
    "collapsed": false
   },
   "outputs": [
    {
     "data": {
      "text/plain": [
       "51"
      ]
     },
     "execution_count": 39,
     "metadata": {},
     "output_type": "execute_result"
    }
   ],
   "source": [
    "len(parent.genes)"
   ]
  },
  {
   "cell_type": "code",
   "execution_count": null,
   "metadata": {
    "collapsed": true
   },
   "outputs": [],
   "source": []
  },
  {
   "cell_type": "code",
   "execution_count": 36,
   "metadata": {
    "collapsed": true
   },
   "outputs": [],
   "source": [
    "qqq = 0\n"
   ]
  },
  {
   "cell_type": "code",
   "execution_count": 38,
   "metadata": {
    "collapsed": false
   },
   "outputs": [
    {
     "data": {
      "text/plain": [
       "1"
      ]
     },
     "execution_count": 38,
     "metadata": {},
     "output_type": "execute_result"
    }
   ],
   "source": [
    "int(not qqq)"
   ]
  },
  {
   "cell_type": "code",
   "execution_count": null,
   "metadata": {
    "collapsed": true
   },
   "outputs": [],
   "source": []
  }
 ],
 "metadata": {
  "kernelspec": {
   "display_name": "Python 2",
   "language": "python",
   "name": "python2"
  },
  "language_info": {
   "codemirror_mode": {
    "name": "ipython",
    "version": 2
   },
   "file_extension": ".py",
   "mimetype": "text/x-python",
   "name": "python",
   "nbconvert_exporter": "python",
   "pygments_lexer": "ipython2",
   "version": "2.7.9"
  }
 },
 "nbformat": 4,
 "nbformat_minor": 0
}
